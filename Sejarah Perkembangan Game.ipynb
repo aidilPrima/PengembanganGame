{
  "nbformat": 4,
  "nbformat_minor": 0,
  "metadata": {
    "colab": {
      "name": "Untitled0.ipynb",
      "provenance": [],
      "toc_visible": true,
      "authorship_tag": "ABX9TyO9lLBYvY3QsBLMQN3AU6Wm",
      "include_colab_link": true
    },
    "kernelspec": {
      "name": "python3",
      "display_name": "Python 3"
    },
    "language_info": {
      "name": "python"
    }
  },
  "cells": [
    {
      "cell_type": "markdown",
      "metadata": {
        "id": "view-in-github",
        "colab_type": "text"
      },
      "source": [
        "<a href=\"https://colab.research.google.com/github/aidilPrima/PengembanganGame/blob/main/Sejarah%20Perkembangan%20Game.ipynb\" target=\"_parent\"><img src=\"https://colab.research.google.com/assets/colab-badge.svg\" alt=\"Open In Colab\"/></a>"
      ]
    },
    {
      "cell_type": "code",
      "execution_count": null,
      "metadata": {
        "id": "JNVqmHkpdRW5"
      },
      "outputs": [],
      "source": [
        ""
      ]
    },
    {
      "cell_type": "markdown",
      "source": [
        "# Sejarah Perkembangan Game\n",
        "\n"
      ],
      "metadata": {
        "id": "rvGW55JpdTm4"
      }
    },
    {
      "cell_type": "markdown",
      "source": [
        "## Chapter\n",
        "bebas saja dulu"
      ],
      "metadata": {
        "id": "j1gJPc_Tddbu"
      }
    }
  ]
}